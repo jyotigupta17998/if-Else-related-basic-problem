{
 "cells": [
  {
   "cell_type": "markdown",
   "id": "2d75b63a-a085-48c4-9d2c-351b253e5f4e",
   "metadata": {},
   "source": [
    "### Q1. WAP to calculate the electricity bill using only if statement? (accept number of unit from usera:"
   ]
  },
  {
   "cell_type": "raw",
   "id": "554dacc5-92af-4dcc-85fb-d704230745ea",
   "metadata": {},
   "source": [
    "   Unit                     Price\n",
    "\n",
    " First 100 units          no charge\n",
    " Next 100 units           Rs 5 per unit\n",
    " After 200 units          Rs 10 per unit"
   ]
  },
  {
   "cell_type": "code",
   "execution_count": 8,
   "id": "ae938906-bfea-4a34-bb6a-5fb72f2aad20",
   "metadata": {},
   "outputs": [
    {
     "name": "stdin",
     "output_type": "stream",
     "text": [
      "Enter the consumed units :  400\n"
     ]
    },
    {
     "name": "stdout",
     "output_type": "stream",
     "text": [
      "The electricity bill for 400 units is Rs 2500\n"
     ]
    }
   ],
   "source": [
    "units = int(input(\"Enter the consumed units : \"))\n",
    "if units <= 100:\n",
    "    bill = 0\n",
    "\n",
    "if units > 100 and units <= 200:\n",
    "    bill = (units - 100) * 5\n",
    "\n",
    "elif units > 200:\n",
    "    bill = 100 * 5 \n",
    "    bill = bill + (units - 200) * 10  \n",
    "\n",
    "print(f\"The electricity bill for {units} units is Rs {bill}\")"
   ]
  },
  {
   "cell_type": "code",
   "execution_count": 6,
   "id": "f7eb2426-3566-441e-9535-65a1ead1ff3a",
   "metadata": {},
   "outputs": [
    {
     "name": "stdin",
     "output_type": "stream",
     "text": [
      "Enter the consumed units :  100\n"
     ]
    },
    {
     "name": "stdout",
     "output_type": "stream",
     "text": [
      "The electricity bill for 100 units is Rs 0\n"
     ]
    }
   ],
   "source": [
    "units = int(input(\"Enter the consumed units : \"))\n",
    "\n",
    "bill = 0\n",
    "\n",
    "if units > 100:\n",
    "    remaining_units = units - 100\n",
    "    \n",
    "    if remaining_units <= 100:\n",
    "        bill = bill + remaining_units * 5\n",
    "        \n",
    "    else:\n",
    "        bill = bill + 100 * 5\n",
    "        remaining_units = remaining_units- 100\n",
    "        bill = bill + remaining_units * 10\n",
    "\n",
    "print(f\"The electricity bill for {units} units is Rs {bill}\")"
   ]
  },
  {
   "cell_type": "markdown",
   "id": "9d97ab1a-7fdd-477f-923d-f505bd1ec2f6",
   "metadata": {},
   "source": [
    "### Q2. WAP to accept percentage from the user and display the grade according to the following criteria::"
   ]
  },
  {
   "cell_type": "raw",
   "id": "73690f0e-fca7-422c-be26-69fec65ea654",
   "metadata": {},
   "source": [
    " Marks                   Grade\n",
    "\n",
    " >90                      A\n",
    " >80  <= 90               B\n",
    " >= 60 and <= 80          C\n",
    " below 60                 D"
   ]
  },
  {
   "cell_type": "code",
   "execution_count": 18,
   "id": "a901f9a4-4e7c-41b9-a692-d3d2e2fe927a",
   "metadata": {},
   "outputs": [
    {
     "name": "stdin",
     "output_type": "stream",
     "text": [
      "Enter the percentage:  80\n"
     ]
    },
    {
     "name": "stdout",
     "output_type": "stream",
     "text": [
      "The grade for 80.0% is C\n"
     ]
    }
   ],
   "source": [
    "percentage = float(input(\"Enter the percentage: \"))\n",
    "\n",
    "if percentage > 90:\n",
    "    grade = \"A\"\n",
    "elif percentage > 80:\n",
    "    grade = \"B\"\n",
    "elif percentage >= 60:\n",
    "    grade = \"C\"\n",
    "else:\n",
    "    grade = \"D\"\n",
    "\n",
    "print(f\"The grade for {percentage}% is {grade}\")"
   ]
  },
  {
   "cell_type": "markdown",
   "id": "c8f09f9a-d3eb-4431-97a5-f2974cda86cf",
   "metadata": {},
   "source": [
    "### Q3. Accept the age of 4 people and display the youngest one?"
   ]
  },
  {
   "cell_type": "code",
   "execution_count": 21,
   "id": "93fc0726-1666-482f-a1ad-0aed124a936d",
   "metadata": {},
   "outputs": [
    {
     "name": "stdin",
     "output_type": "stream",
     "text": [
      "Enter the age of the 1st person:  55\n",
      "Enter the age of the 2nd person:  60\n",
      "Enter the age of the  person:  23\n",
      "Enter the age of the fourth person:  40\n"
     ]
    },
    {
     "name": "stdout",
     "output_type": "stream",
     "text": [
      "The youngest age is 23\n"
     ]
    }
   ],
   "source": [
    "age1 = int(input(\"Enter the age of the 1st person: \"))\n",
    "age2 = int(input(\"Enter the age of the 2nd person: \"))\n",
    "age3 = int(input(\"Enter the age of the  person: \"))\n",
    "age4 = int(input(\"Enter the age of the fourth person: \"))\n",
    "\n",
    "if age1 < age2 and age1 < age3 and age1 < age4:\n",
    "    youngest = age1\n",
    "elif age2 < age3 and age2 < age4:\n",
    "    youngest = age2\n",
    "elif age3 < age4:\n",
    "    youngest = age3\n",
    "else:\n",
    "    youngest = age4\n",
    "\n",
    "print(f\"The youngest age is {youngest}\")"
   ]
  },
  {
   "cell_type": "markdown",
   "id": "860d83bb-fa90-456c-88b3-529a4899ace5",
   "metadata": {},
   "source": [
    "### Q4. A company decided to give bonus to employee according to following criteria:"
   ]
  },
  {
   "cell_type": "raw",
   "id": "179b1152-c54c-4471-9b15-38e1dba40022",
   "metadata": {},
   "source": [
    "Time period of Service            Bonus\n",
    "\n",
    "More than 10 years                 10%\n",
    ">=6 and <=10                        8%\n",
    "Less than 6 years                   5%\n",
    "\n",
    "Ask user for their salary and years of service and print the net bonus amount?"
   ]
  },
  {
   "cell_type": "code",
   "execution_count": 32,
   "id": "43e07d63-7e85-4354-8dfb-c3639a740eec",
   "metadata": {},
   "outputs": [
    {
     "name": "stdin",
     "output_type": "stream",
     "text": [
      "Enter your salary:  10000\n",
      "Enter your years of service:  5\n"
     ]
    },
    {
     "name": "stdout",
     "output_type": "stream",
     "text": [
      "The net bonus amount is Rs 500.0\n"
     ]
    }
   ],
   "source": [
    "salary = float(input(\"Enter your salary: \"))\n",
    "service_year = int(input(\"Enter your years of service: \"))\n",
    "\n",
    "if service_year > 10:\n",
    "    bonus = salary * 0.10\n",
    "elif service_year >= 6:\n",
    "    bonus = salary * 0.08\n",
    "else:\n",
    "    bonus = salary * 0.05\n",
    "    \n",
    "print(f\"The net bonus amount is Rs {bonus}\")"
   ]
  },
  {
   "cell_type": "markdown",
   "id": "62724df8-9d2f-4e65-9e50-c11cb86a7954",
   "metadata": {},
   "source": [
    "### Q5. Accept three numbers from the user and display the second largest number??"
   ]
  },
  {
   "cell_type": "code",
   "execution_count": 48,
   "id": "380b6fa4-3e09-40f8-92dd-490b3b1c9cc6",
   "metadata": {},
   "outputs": [
    {
     "name": "stdin",
     "output_type": "stream",
     "text": [
      "Enter the first number:  30\n",
      "Enter the second number:  585\n",
      "Enter the third number:  6\n"
     ]
    },
    {
     "name": "stdout",
     "output_type": "stream",
     "text": [
      "The second largest number is 30.0\n"
     ]
    }
   ],
   "source": [
    "num1 = float(input(\"Enter the first number: \"))\n",
    "num2 = float(input(\"Enter the second number: \"))\n",
    "num3 = float(input(\"Enter the third number: \"))\n",
    "\n",
    "if num1 > num2:\n",
    "    if num1 < num3:\n",
    "        second_largest = num1\n",
    "    elif num2 > num3:\n",
    "        second_largest = num2\n",
    "    else:\n",
    "        second_largest = num3\n",
    "else:\n",
    "    if num2 < num3:\n",
    "        second_largest = num2\n",
    "    elif num1 > num3:\n",
    "        second_largest = num1\n",
    "    else:\n",
    "        second_largest = num3\n",
    "\n",
    "print(f\"The second largest number is {second_largest}\")"
   ]
  },
  {
   "cell_type": "markdown",
   "id": "5efb62cf-d6d3-490b-81f8-ea6e7fa71c79",
   "metadata": {},
   "source": [
    "### Q6. Accept the marked price from the user and calculate the Net amount as (Marked Price – Discount) to pay according to following criteria :"
   ]
  },
  {
   "cell_type": "raw",
   "id": "901d0f29-5fe8-403b-87a2-7f3bda711179",
   "metadata": {},
   "source": [
    "Marked Price           Discount\n",
    ">10000                   20%\n",
    ">7000 and <=10000        15%\n",
    "<=7000                   10%"
   ]
  },
  {
   "cell_type": "code",
   "execution_count": 76,
   "id": "9a573996-f670-4e0f-a3cb-304b201c9f0e",
   "metadata": {},
   "outputs": [
    {
     "name": "stdin",
     "output_type": "stream",
     "text": [
      "Enter the marked price:  10000\n"
     ]
    },
    {
     "name": "stdout",
     "output_type": "stream",
     "text": [
      "Marked Price: Rs  10000.00/-\n",
      "Discount Percentage: 15%\n",
      "Discount Amount: Rs  1500.00/-\n",
      "Net Amount to Pay: Rs 8500.00/-\n"
     ]
    }
   ],
   "source": [
    "marked_price = float(input(\"Enter the marked price: \"))\n",
    "\n",
    "if marked_price > 10000:\n",
    "    discount = 20\n",
    "elif marked_price > 7000:\n",
    "    discount = 15\n",
    "else:\n",
    "    discount = 10\n",
    "\n",
    "discount_amount = (discount / 100) * marked_price\n",
    "net_amount = marked_price - discount_amount\n",
    "\n",
    "print(f\"Marked Price: Rs {marked_price: .2f}/-\")\n",
    "print(f\"Discount Percentage: {discount}%\")\n",
    "print(f\"Discount Amount: Rs {discount_amount: .2f}/-\")\n",
    "print(f\"Net Amount to Pay: Rs {net_amount:.2f}/-\")"
   ]
  },
  {
   "cell_type": "markdown",
   "id": "b62ead1e-4af0-4db4-8c46-49ebb53bf455",
   "metadata": {},
   "source": [
    "### Q7. Accept the marks of English, Math and Science, Social Studies Subject and display the stream allotted according to following:"
   ]
  },
  {
   "cell_type": "raw",
   "id": "afc61a92-a218-455e-a8af-cf8808e6bb0c",
   "metadata": {},
   "source": [
    "All Subjects more than 80 marks           —      Science Stream\n",
    "English>80 and Math, Science above 50     —      Commerce Stream\n",
    "English>80 and social studies>80          —      Humanities"
   ]
  },
  {
   "cell_type": "code",
   "execution_count": 82,
   "id": "84eb8708-f3d3-4a24-b82f-0cd93b9d876d",
   "metadata": {},
   "outputs": [
    {
     "name": "stdin",
     "output_type": "stream",
     "text": [
      "Enter marks for English:  80\n",
      "Enter marks for Math:  59\n",
      "Enter marks for Science:  70\n",
      "Enter marks for Social Studies:  79\n"
     ]
    },
    {
     "name": "stdout",
     "output_type": "stream",
     "text": [
      "Stream Allotted: No specific stream allotted\n"
     ]
    }
   ],
   "source": [
    "English = float(input(\"Enter marks for English: \"))\n",
    "Math = float(input(\"Enter marks for Math: \"))\n",
    "Science = float(input(\"Enter marks for Science: \"))\n",
    "Social_Studies = float(input(\"Enter marks for Social Studies: \"))\n",
    "\n",
    "if English > 80 and Math > 80 and Science > 80 and Social_Studies > 80:\n",
    "    stream = \"Science Stream\"\n",
    "elif English > 80 and Math > 50 and Science > 50:\n",
    "    stream = \"Commerce Stream\"\n",
    "elif English > 80 and Social_Studies > 80:\n",
    "    stream = \"Humanities\"\n",
    "else:\n",
    "    stream = \"No specific stream allotted\"\n",
    "\n",
    "print(f\"Stream Allotted: {stream}\")"
   ]
  },
  {
   "cell_type": "markdown",
   "id": "2754be0e-3206-4b7f-a454-2798805d18a0",
   "metadata": {},
   "source": [
    "### 8.WAP to display \"Hello\" if a number entered by user is a multiple of five, otherwise print \"Bye\"??"
   ]
  },
  {
   "cell_type": "code",
   "execution_count": 94,
   "id": "d7e9f0f6-70ad-4a9b-b787-ed2afc6c7b9b",
   "metadata": {},
   "outputs": [
    {
     "name": "stdin",
     "output_type": "stream",
     "text": [
      "Enter a number:  33\n"
     ]
    },
    {
     "name": "stdout",
     "output_type": "stream",
     "text": [
      "Bye\n"
     ]
    }
   ],
   "source": [
    "num = int(input(\"Enter a number: \"))\n",
    "\n",
    "if num % 5 == 0:\n",
    "    print(\"Hello\")\n",
    "else:\n",
    "    print(\"Bye\")"
   ]
  },
  {
   "cell_type": "markdown",
   "id": "121cb00f-7983-42af-a21c-977a416c4f8f",
   "metadata": {},
   "source": [
    "### Q9. WAP to check whether the last digit of a number (entered by user) is divisible by 3 or not??"
   ]
  },
  {
   "cell_type": "code",
   "execution_count": 112,
   "id": "3652a196-1360-4921-9885-fed649c47363",
   "metadata": {},
   "outputs": [
    {
     "name": "stdin",
     "output_type": "stream",
     "text": [
      "Enter a number:  34\n"
     ]
    },
    {
     "name": "stdout",
     "output_type": "stream",
     "text": [
      "The last digit is not divisible by 3.\n"
     ]
    }
   ],
   "source": [
    "number = int(input(\"Enter a number: \"))\n",
    "\n",
    "last_digit = number % 10\n",
    "\n",
    "if last_digit % 3 == 0:\n",
    "    print(\"The last digit is divisible by 3.\")\n",
    "else:\n",
    "    print(\"The last digit is not divisible by 3.\")"
   ]
  },
  {
   "cell_type": "markdown",
   "id": "1d55ea0b-f1c9-4c3b-ad7b-73d16dac93b0",
   "metadata": {},
   "source": [
    "### Q10. Write a program to check whether a number entered is three-digit number or not??"
   ]
  },
  {
   "cell_type": "code",
   "execution_count": 110,
   "id": "0be9459d-1b5f-46c1-8053-9632eafbdb9f",
   "metadata": {},
   "outputs": [
    {
     "name": "stdin",
     "output_type": "stream",
     "text": [
      "Enter a number:  300\n"
     ]
    },
    {
     "name": "stdout",
     "output_type": "stream",
     "text": [
      "The number is a three-digit number.\n"
     ]
    }
   ],
   "source": [
    "number = int(input(\"Enter a number: \"))\n",
    "\n",
    "if 100 <= number <= 999:\n",
    "    print(\"The number is a three-digit number.\")\n",
    "else:\n",
    "    print(\"The number is not a three-digit number.\")"
   ]
  }
 ],
 "metadata": {
  "kernelspec": {
   "display_name": "Python 3 (ipykernel)",
   "language": "python",
   "name": "python3"
  },
  "language_info": {
   "codemirror_mode": {
    "name": "ipython",
    "version": 3
   },
   "file_extension": ".py",
   "mimetype": "text/x-python",
   "name": "python",
   "nbconvert_exporter": "python",
   "pygments_lexer": "ipython3",
   "version": "3.12.4"
  }
 },
 "nbformat": 4,
 "nbformat_minor": 5
}
